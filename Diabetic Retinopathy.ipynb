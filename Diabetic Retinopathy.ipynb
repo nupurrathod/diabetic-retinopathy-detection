{
 "cells": [
  {
   "cell_type": "code",
   "execution_count": null,
   "id": "f9c6918b",
   "metadata": {},
   "outputs": [],
   "source": [
    "#!/usr/bin/env python\n",
    "# coding: utf-8\n",
    "\n",
    "from tensorflow import lite\n",
    "import tensorflow as tf\n",
    "from tensorflow import keras\n",
    "from tensorflow.keras import layers\n",
    "import numpy as np\n",
    "import pandas as pd\n",
    "import random, os\n",
    "import shutil\n",
    "import matplotlib.pyplot as plt\n",
    "from matplotlib.image import imread\n",
    "from keras.preprocessing.image import ImageDataGenerator\n",
    "from tensorflow.keras.metrics import categorical_accuracy\n",
    "from sklearn.model_selection import train_test_split"
   ]
  },
  {
   "cell_type": "code",
   "execution_count": null,
   "id": "3c9ae2a0",
   "metadata": {},
   "outputs": [],
   "source": [
    "# Load the dataset\n",
    "df = pd.read_csv(r'../input/diabetic-retinopathy-224x224-gaussian-filtered/train.csv')"
   ]
  },
  {
   "cell_type": "code",
   "execution_count": null,
   "id": "3f42132f",
   "metadata": {},
   "outputs": [],
   "source": [
    "\n",
    "# Add an additional column, mapping to the type\n",
    "diagnosis_dict_binary = {0: 'No_DR', 1: 'DR', 2: 'DR', 3: 'DR', 4: 'DR'}\n",
    "diagnosis_dict = {0: 'No_DR', 1: 'Mild', 2: 'Moderate', 3: 'Severe', 4: 'Proliferate_DR'}\n",
    "\n",
    "df['binary_type'] = df['diagnosis'].map(diagnosis_dict_binary.get)\n",
    "df['type'] = df['diagnosis'].map(diagnosis_dict.get)\n"
   ]
  },
  {
   "cell_type": "code",
   "execution_count": null,
   "id": "6afb6892",
   "metadata": {},
   "outputs": [],
   "source": [
    "# Visualize data distribution\n",
    "df['type'].value_counts().plot(kind='barh')\n",
    "df['binary_type'].value_counts().plot(kind='barh')\n"
   ]
  },
  {
   "cell_type": "code",
   "execution_count": null,
   "id": "b916e413",
   "metadata": {},
   "outputs": [],
   "source": [
    "# Split into stratified train, val, and test sets\n",
    "train_intermediate, val = train_test_split(df, test_size=0.15, stratify=df['type'])\n",
    "train, test = train_test_split(train_intermediate, test_size=0.15 / (1 - 0.15), stratify=train_intermediate['type'])\n",
    "\n",
    "# Create working directories for train/val/test\n",
    "base_dir = ''\n",
    "train_dir = os.path.join(base_dir, 'train')\n",
    "val_dir = os.path.join(base_dir, 'val')\n",
    "test_dir = os.path.join(base_dir, 'test')"
   ]
  },
  {
   "cell_type": "code",
   "execution_count": null,
   "id": "71bc3c0a",
   "metadata": {},
   "outputs": [],
   "source": [
    "# Remove existing directories and create new ones\n",
    "for directory in [base_dir, train_dir, val_dir, test_dir]:\n",
    "    if os.path.exists(directory):\n",
    "        shutil.rmtree(directory)\n",
    "    os.makedirs(directory)"
   ]
  },
  {
   "cell_type": "code",
   "execution_count": null,
   "id": "3f924b80",
   "metadata": {},
   "outputs": [],
   "source": [
    "# Copy images to respective working directory\n",
    "src_dir = r'../input/diabetic-retinopathy-224x224-gaussian-filtered/gaussian_filtered_images/gaussian_filtered_images'\n",
    "for data, directory in zip([train, val, test], [train_dir, val_dir, test_dir]):\n",
    "    for index, row in data.iterrows():\n",
    "        diagnosis = row['type']\n",
    "        binary_diagnosis = row['binary_type']\n",
    "        id_code = row['id_code'] + \".png\"\n",
    "        srcfile = os.path.join(src_dir, diagnosis, id_code)\n",
    "        dstfile = os.path.join(directory, binary_diagnosis)\n",
    "        os.makedirs(dstfile, exist_ok=True)\n",
    "        shutil.copy(srcfile, dstfile)\n"
   ]
  },
  {
   "cell_type": "code",
   "execution_count": null,
   "id": "b30220f5",
   "metadata": {},
   "outputs": [],
   "source": [
    "# Setting up ImageDataGenerator for train/val/test\n",
    "train_batches = ImageDataGenerator(rescale=1./255).flow_from_directory(train_dir, target_size=(224, 224), shuffle=True)\n",
    "val_batches = ImageDataGenerator(rescale=1./255).flow_from_directory(val_dir, target_size=(224, 224), shuffle=True)\n",
    "test_batches = ImageDataGenerator(rescale=1./255).flow_from_directory(test_dir, target_size=(224, 224), shuffle=False)\n"
   ]
  },
  {
   "cell_type": "code",
   "execution_count": null,
   "id": "395540b8",
   "metadata": {},
   "outputs": [],
   "source": [
    "# Building the model\n",
    "model = tf.keras.Sequential([\n",
    "    layers.Conv2D(8, (3, 3), padding=\"valid\", input_shape=(224, 224, 3), activation='relu'),\n",
    "    layers.MaxPooling2D(pool_size=(2, 2)),\n",
    "    layers.BatchNormalization(),\n",
    "\n",
    "    layers.Conv2D(16, (3, 3), padding=\"valid\", activation='relu'),\n",
    "    layers.MaxPooling2D(pool_size=(2, 2)),\n",
    "    layers.BatchNormalization(),\n",
    "\n",
    "    layers.Conv2D(32, (4, 4), padding=\"valid\", activation='relu'),\n",
    "    layers.MaxPooling2D(pool_size=(2, 2)),\n",
    "    layers.BatchNormalization(),\n",
    "\n",
    "    layers.Flatten(),\n",
    "    layers.Dense(32, activation='relu'),\n",
    "    layers.Dropout(0.15),\n",
    "    layers.Dense(2, activation='softmax')\n",
    "])\n",
    "\n",
    "model.compile(optimizer=tf.keras.optimizers.Adam(lr=1e-5),\n",
    "              loss=tf.keras.losses.BinaryCrossentropy(),\n",
    "              metrics=['acc'])\n",
    "\n",
    "# Train the model\n",
    "history = model.fit(train_batches, epochs=30, validation_data=val_batches)\n",
    "\n",
    "# Save the model\n",
    "model.save('64x3-CNN.model')\n",
    "\n",
    "# Evaluate the model on the test set\n",
    "loss, acc = model.evaluate_generator(test_batches, verbose=1)\n",
    "print(\"Loss: \", loss)\n",
    "print(\"Accuracy: \", acc)"
   ]
  },
  {
   "cell_type": "code",
   "execution_count": null,
   "id": "d4552baf",
   "metadata": {},
   "outputs": [],
   "source": [
    "# Diabetic Retinopathy Detection Section\n",
    "\n",
    "# Function to predict class\n",
    "import tensorflow as tf\n",
    "import cv2\n",
    "import numpy as np\n",
    "import matplotlib.pyplot as plt\n",
    "\n",
    "def predict_class(path):\n",
    "    img = cv2.imread(path)\n",
    "\n",
    "    RGBImg = cv2.cvtColor(img, cv2.COLOR_BGR2RGB)\n",
    "    RGBImg = cv2.resize(RGBImg, (224, 224))\n",
    "    plt.imshow(RGBImg)\n",
    "    image = np.array(RGBImg) / 255.0\n",
    "    new_model = tf.keras.models.load_model(\"64x3-CNN.model\")\n",
    "    predict = new_model.predict(np.array([image]))\n",
    "    per = np.argmax(predict, axis=1)\n",
    "    if per == 1:\n",
    "        print('No DR')\n",
    "    else:\n",
    "        print('DR')"
   ]
  },
  {
   "cell_type": "code",
   "execution_count": null,
   "id": "deb87909",
   "metadata": {},
   "outputs": [],
   "source": [
    "predict_class('../input/diabetic-retinopathy-224x224-gaussian-filtered/gaussian_filtered_images/gaussian_filtered_images/Severe/03c85870824c.png')"
   ]
  }
 ],
 "metadata": {
  "kernelspec": {
   "display_name": "Python 3 (ipykernel)",
   "language": "python",
   "name": "python3"
  },
  "language_info": {
   "codemirror_mode": {
    "name": "ipython",
    "version": 3
   },
   "file_extension": ".py",
   "mimetype": "text/x-python",
   "name": "python",
   "nbconvert_exporter": "python",
   "pygments_lexer": "ipython3",
   "version": "3.11.5"
  }
 },
 "nbformat": 4,
 "nbformat_minor": 5
}
